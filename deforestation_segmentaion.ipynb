{
  "nbformat": 4,
  "nbformat_minor": 0,
  "metadata": {
    "colab": {
      "provenance": []
    },
    "kernelspec": {
      "name": "python3",
      "display_name": "Python 3"
    },
    "language_info": {
      "name": "python"
    }
  },
  "cells": [
    {
      "cell_type": "markdown",
      "source": [
        "Pretrained model link to Google Drive: https://drive.google.com/file/d/1Z0oIc3lc7VFNDclUnOTma2eZg4UTJmBg/view?usp=sharing"
      ],
      "metadata": {
        "id": "acxgJYR6G7bO"
      }
    },
    {
      "cell_type": "markdown",
      "source": [
        "Import libs\n",
        "\n",
        "\n",
        "\n"
      ],
      "metadata": {
        "id": "SM0G6YneHAQZ"
      }
    },
    {
      "cell_type": "code",
      "execution_count": 1,
      "metadata": {
        "id": "s8KdyPc9TeUZ"
      },
      "outputs": [],
      "source": [
        "import tensorflow as tf\n",
        "from tensorflow.keras.utils import plot_model\n",
        "import tensorflow as tf\n",
        "from tensorflow.keras.layers import Conv2D, BatchNormalization, Activation,\\\n",
        "                                    MaxPool2D, UpSampling2D, concatenate,\\\n",
        "                                    Input, Conv2DTranspose, MaxPooling2D,\\\n",
        "                                    Dropout, BatchNormalization\n",
        "\n",
        "from tensorflow.keras.models import Model\n",
        "from tensorflow.keras.callbacks import CSVLogger, ModelCheckpoint\n",
        "from tensorflow.keras.preprocessing.image import ImageDataGenerator\n",
        "\n",
        "from IPython.display import clear_output\n",
        "import matplotlib.pyplot as plt\n",
        "import numpy as np\n",
        "import PIL\n",
        "from matplotlib import colors\n",
        "\n",
        "import matplotlib.pyplot as plt\n",
        "import numpy as np\n",
        "\n",
        "import matplotlib.image"
      ]
    },
    {
      "cell_type": "markdown",
      "source": [
        "Utils"
      ],
      "metadata": {
        "id": "VPptAZFPHGyp"
      }
    },
    {
      "cell_type": "code",
      "source": [
        "def conv2d_block(input_tensor, n_filters, kernel_size=3, batchnorm=True, sublayers=2):\n",
        "    '''In case batchnorm=False \"if\" statement will be skipped and in amount of \"sublayers\" convolutional layers will be created.'''\n",
        "    for idx in range(sublayers):\n",
        "        conv = Conv2D(filters=n_filters, kernel_size=(kernel_size, kernel_size),\n",
        "                   kernel_initializer=\"he_normal\", padding=\"same\")(input_tensor if idx==0 else conv)\n",
        "        if batchnorm:\n",
        "            normalized = BatchNormalization()(conv)\n",
        "        conv = Activation(\"relu\")(conv) # normalized to conv\n",
        "    return conv\n",
        "\n",
        "def conv2d_transpose_block(input_tensor, concatenate_tensor, n_filters, kernel_size=3, strides=2, transpose=False):\n",
        "    if transpose:\n",
        "        conv = Conv2DTranspose(n_filters, (kernel_size, kernel_size),\n",
        "                               strides=(strides, strides), padding='same')(input_tensor)\n",
        "    else:\n",
        "        conv = Conv2D(n_filters, (kernel_size, kernel_size), activation = 'relu', padding = 'same',\n",
        "                      kernel_initializer = 'he_normal')(UpSampling2D(size=(kernel_size, kernel_size))(input_tensor))\n",
        "    conv = Activation(\"relu\")(conv)\n",
        "    concatenation = concatenate([conv, concatenate_tensor])\n",
        "    return concatenation\n",
        "\n",
        "def build_unet(input_shape=(512, 512, 3), filters=[16, 32, 64, 128, 256], batchnorm=True, transpose=False, dropout_flag=False):  # dropout_rate=0.2\n",
        "\n",
        "    conv_dict = dict()\n",
        "    inputs = Input(input_shape)\n",
        "    dropout_rate = 0.5\n",
        "\n",
        "    for idx, n_filters in enumerate(filters[:-1]):\n",
        "        conv = conv2d_block(inputs if n_filters==filters[0] else max_pool, # Change max_pool to dropout\n",
        "                            n_filters=n_filters, kernel_size=3,\n",
        "                            batchnorm=batchnorm)\n",
        "        max_pool = MaxPooling2D((2, 2))(conv)\n",
        "        # Save layer\n",
        "        conv_dict[f\"conv2d_{idx+1}\"] = conv\n",
        "\n",
        "    # Change max_pool to dropout\n",
        "    conv_middle = conv2d_block(max_pool, n_filters=filters[-1], kernel_size=3, batchnorm=batchnorm)\n",
        "\n",
        "    for idx, n_filters in enumerate(reversed(filters[:-1])):\n",
        "        concatenation = conv2d_transpose_block(conv_middle if idx==0 else conv,\n",
        "                                               conv_dict[f\"conv2d_{len(conv_dict) - idx}\"],\n",
        "                                               n_filters, kernel_size=2, strides=2, transpose=transpose) # kernel_size=2, like in previous\n",
        "\n",
        "        conv = conv2d_block(concatenation, n_filters=n_filters, kernel_size=3, # Change concatenation to Dropout\n",
        "                              batchnorm = batchnorm)\n",
        "        print(f'[INFO] UpConv block {idx} created.')\n",
        "    outputs = Conv2D(3, (1, 1), activation='softmax')(conv)\n",
        "    model = Model(inputs=inputs, outputs=outputs)\n",
        "    return model"
      ],
      "metadata": {
        "id": "mLRCl1DxThYW"
      },
      "execution_count": 2,
      "outputs": []
    },
    {
      "cell_type": "markdown",
      "source": [
        "Parse data\n"
      ],
      "metadata": {
        "id": "cq6q50XgHJRd"
      }
    },
    {
      "cell_type": "code",
      "source": [
        "def get_example(dataset_path, image_num):\n",
        "  raw_image_dataset = tf.data.TFRecordDataset(dataset_path)\n",
        "  # Create a dictionary describing the features.\n",
        "  image_feature_description = {\n",
        "        \"image\": tf.io.FixedLenFeature([], tf.string),\n",
        "        \"mask\": tf.io.FixedLenFeature([], tf.string),\n",
        "  }\n",
        "\n",
        "  def _parse_image_function(example_proto):\n",
        "    # Parse the input tf.train.Example proto using the dictionary above.\n",
        "    return tf.io.parse_single_example(example_proto, image_feature_description)\n",
        "\n",
        "  parsed_image_dataset = raw_image_dataset.map(_parse_image_function)\n",
        "  for image_features in parsed_image_dataset:\n",
        "    if image_num != 0:\n",
        "      image_raw = image_features['image'].numpy()\n",
        "      mask_raw = image_features['mask'].numpy()\n",
        "      image_num -= 1\n",
        "    else:\n",
        "      break\n",
        "  image = tf.image.decode_png(image_raw, channels=3)\n",
        "  image = tf.image.resize(image, [512, 512])\n",
        "  image = tf.cast(image, tf.float32) / 255.0  # convert image to floats in [0, 1] range\n",
        "  mask = tf.io.decode_raw(mask_raw, out_type=\"float\")\n",
        "  mask = tf.reshape(mask, [512, 512, 3])\n",
        "  mask = tf.cast(mask, tf.float32)\n",
        "  return image, mask"
      ],
      "metadata": {
        "id": "cWdNyQSpWT5j"
      },
      "execution_count": 3,
      "outputs": []
    },
    {
      "cell_type": "code",
      "source": [
        "model = build_unet(input_shape=(512, 512, 3),\n",
        "                   filters=[2 ** i for i in range(5, int(np.log2(2048) + 1))],\n",
        "                   batchnorm=False, transpose=False, dropout_flag=False)"
      ],
      "metadata": {
        "colab": {
          "base_uri": "https://localhost:8080/"
        },
        "id": "zlZ0a0bITkUj",
        "outputId": "0a529188-6ce4-4be6-abed-b10653db0c64"
      },
      "execution_count": 4,
      "outputs": [
        {
          "output_type": "stream",
          "name": "stdout",
          "text": [
            "[INFO] UpConv block 0 created.\n",
            "[INFO] UpConv block 1 created.\n",
            "[INFO] UpConv block 2 created.\n",
            "[INFO] UpConv block 3 created.\n",
            "[INFO] UpConv block 4 created.\n",
            "[INFO] UpConv block 5 created.\n"
          ]
        }
      ]
    },
    {
      "cell_type": "code",
      "source": [
        "from google.colab import drive\n",
        "drive.mount('/content/drive')"
      ],
      "metadata": {
        "colab": {
          "base_uri": "https://localhost:8080/"
        },
        "id": "hcXJRPy2HhXV",
        "outputId": "0210bed8-7ab1-4114-fbc1-f229a70813b8"
      },
      "execution_count": 5,
      "outputs": [
        {
          "output_type": "stream",
          "name": "stdout",
          "text": [
            "Drive already mounted at /content/drive; to attempt to forcibly remount, call drive.mount(\"/content/drive\", force_remount=True).\n"
          ]
        }
      ]
    },
    {
      "cell_type": "code",
      "source": [
        "path_to_load = \"/content/drive/MyDrive/datasets/U6_E 1201-F1 0.7134-IOU 0.6555.h5\"\n",
        "model.load_weights(path_to_load)"
      ],
      "metadata": {
        "id": "unSKRI_QTw04"
      },
      "execution_count": 6,
      "outputs": []
    },
    {
      "cell_type": "code",
      "source": [
        "path_to_image = \"/content/drive/MyDrive/datasets/image.png\"\n",
        "image = tf.io.read_file(path_to_image)\n",
        "image = tf.io.decode_png(image)\n",
        "# image_1, mask = get_example(\"/content/drive/MyDrive/datasets/tfrecords_v2_part_1.tfrec\", 2) # for one more pictures"
      ],
      "metadata": {
        "id": "oR_NG8bKT0GK"
      },
      "execution_count": 8,
      "outputs": []
    },
    {
      "cell_type": "code",
      "source": [
        "image = image[np.newaxis, ...]\n",
        "prediction = model.predict(image)\n",
        "prediction_class1 = np.copy(prediction[..., 0]) # Forest\n",
        "prediction_class2 = np.copy(prediction[..., 1]) # Deforest\n",
        "prediction[..., 0] = prediction_class2 # RED - Deforest\n",
        "prediction[..., 1] = prediction_class1 # GREEN - Forest"
      ],
      "metadata": {
        "colab": {
          "base_uri": "https://localhost:8080/"
        },
        "id": "xfcEaWhpT2XX",
        "outputId": "f305acb1-937e-481b-efa4-044de92e580b"
      },
      "execution_count": 9,
      "outputs": [
        {
          "output_type": "stream",
          "name": "stdout",
          "text": [
            "1/1 [==============================] - 4s 4s/step\n"
          ]
        }
      ]
    },
    {
      "cell_type": "markdown",
      "source": [
        "Save to disk"
      ],
      "metadata": {
        "id": "2g0uoVGeKOHQ"
      }
    },
    {
      "cell_type": "code",
      "source": [
        "save_path = \"/content/name.png\"\n",
        "matplotlib.image.imsave(save_path, prediction[0])"
      ],
      "metadata": {
        "id": "HRgtWCeWI2sV"
      },
      "execution_count": 18,
      "outputs": []
    },
    {
      "cell_type": "code",
      "source": [
        "plt.imshow(prediction[0])"
      ],
      "metadata": {
        "colab": {
          "base_uri": "https://localhost:8080/",
          "height": 453
        },
        "id": "rW2IWBOtavTk",
        "outputId": "484814c8-bbc6-48d4-e259-04f8daca63c3"
      },
      "execution_count": 13,
      "outputs": [
        {
          "output_type": "execute_result",
          "data": {
            "text/plain": [
              "<matplotlib.image.AxesImage at 0x7c9371f10dc0>"
            ]
          },
          "metadata": {},
          "execution_count": 13
        },
        {
          "output_type": "display_data",
          "data": {
            "text/plain": [
              "<Figure size 640x480 with 1 Axes>"
            ],
            "image/png": "[encoded data removed]"
          },
          "metadata": {}
        }
      ]
    }
  ]
}